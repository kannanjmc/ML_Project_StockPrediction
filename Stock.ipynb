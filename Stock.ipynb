{
 "cells": [
  {
   "cell_type": "code",
   "execution_count": 1,
   "metadata": {},
   "outputs": [],
   "source": [
    "# Simple Stock Market Predictor\n",
    "# Built with Python 3.5\n",
    "\n",
    "import csv\n",
    "import numpy as np\n",
    "from sklearn.svm import SVR\n",
    "from sklearn.linear_model import LinearRegression\n",
    "from sklearn import datasets, linear_model\n",
    "from sklearn.model_selection import train_test_split\n",
    "import matplotlib.pyplot as plt\n",
    "import pandas as pd\n",
    "import math\n",
    "import time"
   ]
  },
  {
   "cell_type": "code",
   "execution_count": 2,
   "metadata": {},
   "outputs": [
    {
     "name": "stdout",
     "output_type": "stream",
     "text": [
      "        Date   Open   High    Low  Close    Volume\n",
      "0  27-Jan-17  30.40  30.44  29.94  30.01  30005629\n",
      "1  26-Jan-17  30.44  30.49  30.13  30.32  26767132\n",
      "2  25-Jan-17  30.42  30.47  30.22  30.37  38131702\n",
      "3  24-Jan-17  29.86  30.06  29.82  30.00  33686501\n",
      "4  23-Jan-17  30.50  30.51  29.58  29.75  59093385\n"
     ]
    }
   ],
   "source": [
    "df = pd.read_csv('ge.csv')\n",
    "print(df.head())"
   ]
  },
  {
   "cell_type": "code",
   "execution_count": 3,
   "metadata": {},
   "outputs": [
    {
     "data": {
      "text/plain": [
       "array([[<matplotlib.axes._subplots.AxesSubplot object at 0x000001D4B9182B70>,\n",
       "        <matplotlib.axes._subplots.AxesSubplot object at 0x000001D4B9225D68>],\n",
       "       [<matplotlib.axes._subplots.AxesSubplot object at 0x000001D4B9262D68>,\n",
       "        <matplotlib.axes._subplots.AxesSubplot object at 0x000001D4B92D62E8>],\n",
       "       [<matplotlib.axes._subplots.AxesSubplot object at 0x000001D4B92FDE10>,\n",
       "        <matplotlib.axes._subplots.AxesSubplot object at 0x000001D4B92FDE48>]],\n",
       "      dtype=object)"
      ]
     },
     "execution_count": 3,
     "metadata": {},
     "output_type": "execute_result"
    },
    {
     "data": {
      "image/png": "[encoded data removed]",
      "text/plain": [
       "<matplotlib.figure.Figure at 0x1d4b91476d8>"
      ]
     },
     "metadata": {},
     "output_type": "display_data"
    }
   ],
   "source": [
    "df.hist()"
   ]
  },
  {
   "cell_type": "code",
   "execution_count": 4,
   "metadata": {},
   "outputs": [
    {
     "name": "stdout",
     "output_type": "stream",
     "text": [
      "         Date   Open   High    Low  Close    Volume  OC_Change  HL_Change  \\\n",
      "245  8-Feb-16  28.22  28.27  27.76  28.17  47343080  -0.177179   1.804033   \n",
      "246  5-Feb-16  29.15  29.20  28.30  28.54  51732948  -2.092624   3.082192   \n",
      "247  4-Feb-16  28.65  29.46  28.49  29.18  53809002   1.849913   3.292600   \n",
      "248  3-Feb-16  28.39  28.69  27.87  28.67  44163305   0.986263   2.858139   \n",
      "249  2-Feb-16  28.27  28.29  27.92  28.24  39975038  -0.106120   1.307883   \n",
      "\n",
      "     Label  \n",
      "245  28.54  \n",
      "246  29.18  \n",
      "247  28.67  \n",
      "248  28.24  \n",
      "249    NaN  \n"
     ]
    }
   ],
   "source": [
    "df['OC_Change']=(df['Close']-df['Open'])/df['Open']*100\n",
    "df['HL_Change']=(df['High']-df['Low'])/df['High']*100\n",
    "forecast_out= int(math.ceil(1))\n",
    "df['Label']=df['Close'].shift(-forecast_out)\n",
    "df=df[['Date', 'Open', 'High', 'Low', 'Close', 'Volume', 'OC_Change', 'HL_Change','Label']]\n",
    "print(df.tail())"
   ]
  },
  {
   "cell_type": "raw",
   "metadata": {},
   "source": []
  },
  {
   "cell_type": "code",
   "execution_count": 7,
   "metadata": {},
   "outputs": [
    {
     "name": "stdout",
     "output_type": "stream",
     "text": [
      "         Date   Open   High    Low  Close    Volume  OC_Change  HL_Change  \\\n",
      "244  9-Feb-16  27.75  28.54  27.75  28.28  36570398   1.909910   2.768045   \n",
      "245  8-Feb-16  28.22  28.27  27.76  28.17  47343080  -0.177179   1.804033   \n",
      "246  5-Feb-16  29.15  29.20  28.30  28.54  51732948  -2.092624   3.082192   \n",
      "247  4-Feb-16  28.65  29.46  28.49  29.18  53809002   1.849913   3.292600   \n",
      "248  3-Feb-16  28.39  28.69  27.87  28.67  44163305   0.986263   2.858139   \n",
      "\n",
      "     Label  \n",
      "244  28.17  \n",
      "245  28.54  \n",
      "246  29.18  \n",
      "247  28.67  \n",
      "248  28.24  \n"
     ]
    }
   ],
   "source": [
    "df.dropna(inplace=True)\n",
    "print(df.tail())"
   ]
  },
  {
   "cell_type": "code",
   "execution_count": 8,
   "metadata": {},
   "outputs": [
    {
     "name": "stdout",
     "output_type": "stream",
     "text": [
      "Length of X 7 y:  249 249\n"
     ]
    }
   ],
   "source": [
    "testDataSet=df.drop(['Date'],1)\n",
    "X=np.array(testDataSet.drop(['Label'],1))\n",
    "y=np.array(testDataSet['Label'])\n",
    "print(\"Length of X 7 y: \", len(X), len(y))"
   ]
  },
  {
   "cell_type": "code",
   "execution_count": 9,
   "metadata": {},
   "outputs": [
    {
     "name": "stdout",
     "output_type": "stream",
     "text": [
      "Length of X_train & y_train:  199 199\n"
     ]
    }
   ],
   "source": [
    "X_train, X_test, y_train, y_test= train_test_split(X, y, test_size=0.2)\n",
    "print(\"Length of X_train & y_train: \",len(X_train), len(y_train))"
   ]
  },
  {
   "cell_type": "code",
   "execution_count": 10,
   "metadata": {},
   "outputs": [
    {
     "name": "stdout",
     "output_type": "stream",
     "text": [
      "Accuracy for SVM is :  -3.9132532628771706e-05\n"
     ]
    }
   ],
   "source": [
    "clf=SVR()\n",
    "clf.fit(X_train, y_train)\n",
    "accuracySVM=clf.score(X_test, y_test)\n",
    "print(\"Accuracy by using SVM is : \",accuracySVM)"
   ]
  },
  {
   "cell_type": "code",
   "execution_count": 11,
   "metadata": {},
   "outputs": [
    {
     "name": "stdout",
     "output_type": "stream",
     "text": [
      "Accuracy for LinerRegression is :  0.9510348542543922\n"
     ]
    }
   ],
   "source": [
    "clfLinearReg=LinearRegression()\n",
    "clfLinearReg.fit(X_train, y_train)\n",
    "accuracyLR=clfLinearReg.score(X_test, y_test)\n",
    "print(\"Accuracy by using LinerRegression is : \",accuracyLR)"
   ]
  },
  {
   "cell_type": "code",
   "execution_count": 144,
   "metadata": {},
   "outputs": [],
   "source": []
  },
  {
   "cell_type": "code",
   "execution_count": null,
   "metadata": {},
   "outputs": [],
   "source": []
  },
  {
   "cell_type": "code",
   "execution_count": null,
   "metadata": {},
   "outputs": [],
   "source": []
  },
  {
   "cell_type": "code",
   "execution_count": null,
   "metadata": {},
   "outputs": [],
   "source": []
  },
  {
   "cell_type": "code",
   "execution_count": null,
   "metadata": {},
   "outputs": [],
   "source": []
  },
  {
   "cell_type": "code",
   "execution_count": null,
   "metadata": {},
   "outputs": [],
   "source": []
  }
 ],
 "metadata": {
  "kernelspec": {
   "display_name": "Python 3",
   "language": "python",
   "name": "python3"
  },
  "language_info": {
   "codemirror_mode": {
    "name": "ipython",
    "version": 3
   },
   "file_extension": ".py",
   "mimetype": "text/x-python",
   "name": "python",
   "nbconvert_exporter": "python",
   "pygments_lexer": "ipython3",
   "version": "3.6.4"
  }
 },
 "nbformat": 4,
 "nbformat_minor": 2
}
